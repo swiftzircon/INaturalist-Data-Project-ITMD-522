{
 "cells": [
  {
   "cell_type": "code",
   "execution_count": null,
   "id": "06126248",
   "metadata": {},
   "outputs": [],
   "source": [
    "# Initial Data Preprocessing and Importing #####################################################################################\n",
    "#My first step in preprocessing was picking out what columns were important to include before\n",
    "#even downloading the dataset, and pulling only those features.\n"
   ]
  }
 ],
 "metadata": {
  "kernelspec": {
   "display_name": "Python 3",
   "language": "python",
   "name": "python3"
  },
  "language_info": {
   "codemirror_mode": {
    "name": "ipython",
    "version": 3
   },
   "file_extension": ".py",
   "mimetype": "text/x-python",
   "name": "python",
   "nbconvert_exporter": "python",
   "pygments_lexer": "ipython3",
   "version": "3.8.8"
  }
 },
 "nbformat": 4,
 "nbformat_minor": 5
}
